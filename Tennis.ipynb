{
 "cells": [
  {
   "cell_type": "markdown",
   "metadata": {},
   "source": [
    "# Collaboration and Competition\n",
    "\n",
    "---\n",
    "\n",
    "You are welcome to use this coding environment to train your agent for the project.  Follow the instructions below to get started!\n",
    "\n",
    "### 1. Start the Environment\n",
    "\n",
    "Run the next code cell to install a few packages.  This line will take a few minutes to run!"
   ]
  },
  {
   "cell_type": "code",
   "execution_count": 1,
   "metadata": {},
   "outputs": [
    {
     "name": "stdout",
     "output_type": "stream",
     "text": [
      "\u001b[31mtensorflow 1.7.1 has requirement numpy>=1.13.3, but you'll have numpy 1.12.1 which is incompatible.\u001b[0m\r\n",
      "\u001b[31mipython 6.5.0 has requirement prompt-toolkit<2.0.0,>=1.0.15, but you'll have prompt-toolkit 3.0.36 which is incompatible.\u001b[0m\r\n",
      "\u001b[31mjupyter-console 6.4.3 has requirement jupyter-client>=7.0.0, but you'll have jupyter-client 5.2.4 which is incompatible.\u001b[0m\r\n"
     ]
    }
   ],
   "source": [
    "!pip -q install ./python"
   ]
  },
  {
   "cell_type": "markdown",
   "metadata": {},
   "source": [
    "The environment is already saved in the Workspace and can be accessed at the file path provided below. "
   ]
  },
  {
   "cell_type": "code",
   "execution_count": 2,
   "metadata": {},
   "outputs": [
    {
     "name": "stderr",
     "output_type": "stream",
     "text": [
      "INFO:unityagents:\n",
      "'Academy' started successfully!\n",
      "Unity Academy name: Academy\n",
      "        Number of Brains: 1\n",
      "        Number of External Brains : 1\n",
      "        Lesson number : 0\n",
      "        Reset Parameters :\n",
      "\t\t\n",
      "Unity brain name: TennisBrain\n",
      "        Number of Visual Observations (per agent): 0\n",
      "        Vector Observation space type: continuous\n",
      "        Vector Observation space size (per agent): 8\n",
      "        Number of stacked Vector Observation: 3\n",
      "        Vector Action space type: continuous\n",
      "        Vector Action space size (per agent): 2\n",
      "        Vector Action descriptions: , \n"
     ]
    }
   ],
   "source": [
    "from unityagents import UnityEnvironment\n",
    "import numpy as np\n",
    "\n",
    "env = UnityEnvironment(file_name=\"/data/Tennis_Linux_NoVis/Tennis\")"
   ]
  },
  {
   "cell_type": "markdown",
   "metadata": {},
   "source": [
    "Environments contain **_brains_** which are responsible for deciding the actions of their associated agents. Here we check for the first brain available, and set it as the default brain we will be controlling from Python."
   ]
  },
  {
   "cell_type": "code",
   "execution_count": 3,
   "metadata": {},
   "outputs": [],
   "source": [
    "# get the default brain\n",
    "brain_name = env.brain_names[0]\n",
    "brain = env.brains[brain_name]"
   ]
  },
  {
   "cell_type": "markdown",
   "metadata": {},
   "source": [
    "### 2. Examine the State and Action Spaces\n",
    "\n",
    "Run the code cell below to print some information about the environment."
   ]
  },
  {
   "cell_type": "code",
   "execution_count": 4,
   "metadata": {},
   "outputs": [
    {
     "name": "stdout",
     "output_type": "stream",
     "text": [
      "Number of agents: 2\n",
      "Size of each action: 2\n",
      "There are 2 agents. Each observes a state with length: 24\n",
      "The state for the first agent looks like: [ 0.          0.          0.          0.          0.          0.          0.\n",
      "  0.          0.          0.          0.          0.          0.          0.\n",
      "  0.          0.         -6.65278625 -1.5        -0.          0.\n",
      "  6.83172083  6.         -0.          0.        ]\n"
     ]
    }
   ],
   "source": [
    "# reset the environment\n",
    "env_info = env.reset(train_mode=True)[brain_name]\n",
    "\n",
    "# number of agents \n",
    "num_agents = len(env_info.agents)\n",
    "print('Number of agents:', num_agents)\n",
    "\n",
    "# size of each action\n",
    "action_size = brain.vector_action_space_size\n",
    "print('Size of each action:', action_size)\n",
    "\n",
    "# examine the state space \n",
    "states = env_info.vector_observations\n",
    "state_size = states.shape[1]\n",
    "print('There are {} agents. Each observes a state with length: {}'.format(states.shape[0], state_size))\n",
    "print('The state for the first agent looks like:', states[0])"
   ]
  },
  {
   "cell_type": "markdown",
   "metadata": {},
   "source": [
    "### 3. Take Random Actions in the Environment\n",
    "\n",
    "In the next code cell, you will learn how to use the Python API to control the agent and receive feedback from the environment.\n",
    "\n",
    "Note that **in this coding environment, you will not be able to watch the agents while they are training**, and you should set `train_mode=True` to restart the environment."
   ]
  },
  {
   "cell_type": "code",
   "execution_count": 5,
   "metadata": {},
   "outputs": [
    {
     "name": "stdout",
     "output_type": "stream",
     "text": [
      "Total score (averaged over agents) this episode: -0.004999999888241291\n",
      "Total score (averaged over agents) this episode: -0.004999999888241291\n",
      "Total score (averaged over agents) this episode: 0.04500000085681677\n",
      "Total score (averaged over agents) this episode: -0.004999999888241291\n",
      "Total score (averaged over agents) this episode: -0.004999999888241291\n"
     ]
    }
   ],
   "source": [
    "for i in range(5):                                         # play game for 5 episodes\n",
    "    env_info = env.reset(train_mode=False)[brain_name]     # reset the environment    \n",
    "    states = env_info.vector_observations                  # get the current state (for each agent)\n",
    "    scores = np.zeros(num_agents)                          # initialize the score (for each agent)\n",
    "    while True:\n",
    "        actions = np.random.randn(num_agents, action_size) # select an action (for each agent)\n",
    "        actions = np.clip(actions, -1, 1)                  # all actions between -1 and 1\n",
    "        env_info = env.step(actions)[brain_name]           # send all actions to tne environment\n",
    "        next_states = env_info.vector_observations         # get next state (for each agent)\n",
    "        rewards = env_info.rewards                         # get reward (for each agent)\n",
    "        dones = env_info.local_done                        # see if episode finished\n",
    "        scores += env_info.rewards                         # update the score (for each agent)\n",
    "        states = next_states                               # roll over states to next time step\n",
    "        if np.any(dones):                                  # exit loop if episode finished\n",
    "            break\n",
    "    print('Total score (averaged over agents) this episode: {}'.format(np.mean(scores)))"
   ]
  },
  {
   "cell_type": "markdown",
   "metadata": {},
   "source": [
    "When finished, you can close the environment."
   ]
  },
  {
   "cell_type": "code",
   "execution_count": 6,
   "metadata": {},
   "outputs": [],
   "source": [
    "# env.close()"
   ]
  },
  {
   "cell_type": "markdown",
   "metadata": {},
   "source": [
    "### 4. It's Your Turn!\n",
    "\n",
    "Now it's your turn to train your own agent to solve the environment!  A few **important notes**:\n",
    "- When training the environment, set `train_mode=True`, so that the line for resetting the environment looks like the following:\n",
    "```python\n",
    "env_info = env.reset(train_mode=True)[brain_name]\n",
    "```\n",
    "- To structure your work, you're welcome to work directly in this Jupyter notebook, or you might like to start over with a new file!  You can see the list of files in the workspace by clicking on **_Jupyter_** in the top left corner of the notebook.\n",
    "- In this coding environment, you will not be able to watch the agents while they are training.  However, **_after training the agents_**, you can download the saved model weights to watch the agents on your own machine! "
   ]
  },
  {
   "cell_type": "markdown",
   "metadata": {},
   "source": [
    "##  Building the project here \n",
    "###  Multi-Agent Deep Detrministic Policy Gradient (MADDPG)\n",
    "### Actor - Critic method with decentralized actor and centralized critic (following approach from Lowe and Wu https://papers.nips.cc/paper/7217-multi-agent-actor-critic-for-mixed-cooperative-competitive-environments.pdf \n",
    "#### Modified DDPG_agent.py from Udacity repository that will be imported\n",
    "#### tennis_model.py for the Actor and Critic nn models \n"
   ]
  },
  {
   "cell_type": "code",
   "execution_count": 7,
   "metadata": {},
   "outputs": [
    {
     "name": "stdout",
     "output_type": "stream",
     "text": [
      "Collecting pyvirtualdisplay\n",
      "  Downloading https://files.pythonhosted.org/packages/90/eb/c3b8deb661cb3846db63288c99bbb39f217b7807fc8acb2fd058db41e2e6/PyVirtualDisplay-3.0-py3-none-any.whl\n",
      "Installing collected packages: pyvirtualdisplay\n",
      "Successfully installed pyvirtualdisplay-3.0\n"
     ]
    }
   ],
   "source": [
    "import random\n",
    "import torch\n",
    "import numpy as np\n",
    "from collections import deque\n",
    "import matplotlib.pyplot as plt\n",
    "%matplotlib inline\n",
    "\n",
    "!python -m pip install pyvirtualdisplay\n",
    "from pyvirtualdisplay import Display\n",
    "display = Display(visible=0, size=(1400, 900))\n",
    "display.start()\n",
    "\n",
    "is_ipython = 'inline' in plt.get_backend()\n",
    "if is_ipython:\n",
    "    from IPython import display\n",
    "\n",
    "plt.ion()"
   ]
  },
  {
   "cell_type": "code",
   "execution_count": 8,
   "metadata": {},
   "outputs": [
    {
     "name": "stdout",
     "output_type": "stream",
     "text": [
      "Number of agents: 2\n",
      "Size of each action: 2\n"
     ]
    }
   ],
   "source": [
    "# reset the environment\n",
    "env_info = env.reset(train_mode=True)[brain_name]\n",
    "\n",
    "# number of agents \n",
    "num_agents = len(env_info.agents)\n",
    "print('Number of agents:', num_agents)\n",
    "\n",
    "# size of each action\n",
    "action_size = brain.vector_action_space_size\n",
    "print('Size of each action:', action_size)\n"
   ]
  },
  {
   "cell_type": "code",
   "execution_count": 9,
   "metadata": {},
   "outputs": [
    {
     "name": "stdout",
     "output_type": "stream",
     "text": [
      "There are 2 agents. Each observes a state with length: 24\n",
      "The state for the first agent looks like: [ 0.          0.          0.          0.          0.          0.          0.\n",
      "  0.          0.          0.          0.          0.          0.          0.\n",
      "  0.          0.         -7.98782539 -1.5        -0.          0.\n",
      " -7.11741829  5.99607611 -0.          0.        ]\n"
     ]
    }
   ],
   "source": [
    "\n",
    "# examine the state space \n",
    "\n",
    "states = env_info.vector_observations\n",
    "state_size = states.shape[1]\n",
    "print('There are {} agents. Each observes a state with length: {}'.format(states.shape[0], state_size))\n",
    "print('The state for the first agent looks like:', states[0])"
   ]
  },
  {
   "cell_type": "code",
   "execution_count": 10,
   "metadata": {},
   "outputs": [
    {
     "name": "stdout",
     "output_type": "stream",
     "text": [
      "Total score (averaged over agents) this episode: -0.004999999888241291\n",
      "Total score (averaged over agents) this episode: -0.004999999888241291\n",
      "Total score (averaged over agents) this episode: -0.004999999888241291\n",
      "Total score (averaged over agents) this episode: -0.004999999888241291\n",
      "Total score (averaged over agents) this episode: 0.04500000085681677\n"
     ]
    }
   ],
   "source": [
    "for i in range(5):                                         # play game for 5 episodes\n",
    "    env_info = env.reset(train_mode=True)[brain_name]     # reset the environment    \n",
    "    states = env_info.vector_observations                  # get the current state (for each agent)\n",
    "    scores = np.zeros(num_agents)                          # initialize the score (for each agent)\n",
    "    while True:\n",
    "        actions = np.random.randn(num_agents, action_size) # select an action (for each agent)\n",
    "        actions = np.clip(actions, -1, 1)                  # all actions between -1 and 1\n",
    "        env_info = env.step(actions)[brain_name]           # send all actions to tne environment\n",
    "        next_states = env_info.vector_observations         # get next state (for each agent)\n",
    "        rewards = env_info.rewards                         # get reward (for each agent)\n",
    "        dones = env_info.local_done                        # see if episode finished\n",
    "        scores += env_info.rewards                         # update the score (for each agent)\n",
    "        states = next_states                               # roll over states to next time step\n",
    "        if np.any(dones):                                  # exit loop if episode finished\n",
    "            break\n",
    "    print('Total score (averaged over agents) this episode: {}'.format(np.mean(scores)))"
   ]
  },
  {
   "cell_type": "markdown",
   "metadata": {},
   "source": [
    "## Initialize"
   ]
  },
  {
   "cell_type": "code",
   "execution_count": 11,
   "metadata": {},
   "outputs": [],
   "source": [
    "#from maddpg_agent import Agent\n",
    "from maddpg_agent1 import Agent\n",
    "import time\n"
   ]
  },
  {
   "cell_type": "code",
   "execution_count": 12,
   "metadata": {},
   "outputs": [],
   "source": [
    "agents = []\n",
    "\n",
    "for i in range(num_agents):\n",
    "    agents.append(Agent(state_size=state_size, action_size=action_size, random_seed=4))"
   ]
  },
  {
   "cell_type": "code",
   "execution_count": 13,
   "metadata": {},
   "outputs": [],
   "source": [
    "def maddpg_run(n_episodes=2500, print_every=100, num_learn=4, goal = 0.5):\n",
    "    scores_deque = deque(maxlen=print_every)\n",
    "    all_scores = []\n",
    "    all_avg_scores = []\n",
    "    \n",
    "    for i_episode in (range(1, n_episodes+1)):\n",
    "        env_info = env.reset(train_mode=True)[brain_name]\n",
    "        #states = np.reshape(env_info.vector_observations, (1, 48))  # 24 states per agent\n",
    "        \n",
    "        states = env_info.vector_observations\n",
    "        \n",
    "        individual_scores = np.zeros(num_agents)\n",
    "        while True:\n",
    "            \n",
    "            actions = np.random.randn(num_agents, action_size)\n",
    "            \n",
    "            #action_00 = agent_00.act(states)\n",
    "            #action_01 = agent_01.act(states)\n",
    "            \n",
    "            #actions = np.concatenate((action_00, action_01), axis=0).flatten()\n",
    "            \n",
    "            for idx in range(num_agents):\n",
    "                agents[idx].reset()\n",
    "                actions[idx] = agents[idx].act(states[idx])\n",
    "            \n",
    "            env_info = env.step(actions)[brain_name]\n",
    "            \n",
    "            \n",
    "            #next_states =  np.reshape(env_info.vector_observations, (1, 48))  # 24 states per agent\n",
    "            \n",
    "            next_states =  env_info.vector_observations\n",
    "            \n",
    "            rewards = env_info.rewards\n",
    "            \n",
    "            dones = env_info.local_done\n",
    "\n",
    "            for idx in range(num_agents):\n",
    "                agents[idx].step(states, actions, rewards, next_states, dones, i_episode)\n",
    "            \n",
    "            individual_scores += rewards\n",
    "            states = next_states\n",
    "            \n",
    "            if np.any(dones):\n",
    "                break\n",
    "        \n",
    "        ##Manage the agents scores for the episodes till the goal is acheived.\n",
    "        \n",
    "        episode_score = np.max(individual_scores)\n",
    "        all_scores.append(episode_score)\n",
    "        \n",
    "        scores_deque.append(episode_score)\n",
    "        \n",
    "        ## Get the average scrore of the last 100\n",
    "        avg_score = np.mean(scores_deque)\n",
    "        \n",
    "        all_avg_scores.append(avg_score)\n",
    "        \n",
    "        ## Print every 100 episodes score\n",
    "        \n",
    "        if i_episode % print_every == 0:\n",
    "            print(f'Episode: {i_episode} Total Average Score: {avg_score} Max Score: {np.max(all_scores)}' )\n",
    "            \n",
    "        ## Check if avg score reached the goal and break\n",
    "        \n",
    "        if avg_score > goal:\n",
    "            print(f' The Environment is solved in {i_episode} episodes with Average score of {avg_score}')\n",
    "            \n",
    "            ## Write the models \n",
    "            \n",
    "            for idx, agent in enumerate(agents):\n",
    "            \n",
    "                actor_local_name =  'actor_local_agent_' + str(idx) + '.pth'\n",
    "                critic_local_name = 'critic_local_agent_' + str(idx) + '.pth'\n",
    "                torch.save(agent.actor_local.state_dict(), actor_local_name)\n",
    "                torch.save(agent.critic_local.state_dict(), critic_local_name)\n",
    "            \n",
    "            break\n",
    "    \n",
    "    return all_scores, all_avg_scores"
   ]
  },
  {
   "cell_type": "code",
   "execution_count": 14,
   "metadata": {},
   "outputs": [],
   "source": [
    "# agent_00 = Agent(state_size=state_size, action_size=action_size, num_agents = 1, random_seed=0)\n",
    "# agent_01 = Agent(state_size=state_size, action_size=action_size, num_agents = 1, random_seed=0)"
   ]
  },
  {
   "cell_type": "code",
   "execution_count": 15,
   "metadata": {},
   "outputs": [],
   "source": [
    "agent_00 = Agent(state_size=state_size, action_size=action_size, random_seed=0)\n",
    "agent_01 = Agent(state_size=state_size, action_size=action_size, random_seed=0)"
   ]
  },
  {
   "cell_type": "code",
   "execution_count": 16,
   "metadata": {},
   "outputs": [
    {
     "name": "stdout",
     "output_type": "stream",
     "text": [
      "Episode: 100 Total Average Score: 0.007000000104308128 Max Score: 0.10000000149011612\n",
      "Episode: 200 Total Average Score: 0.0010000000149011613 Max Score: 0.10000000149011612\n",
      "Episode: 300 Total Average Score: 0.0 Max Score: 0.10000000149011612\n",
      "Episode: 400 Total Average Score: 0.0 Max Score: 0.10000000149011612\n",
      "Episode: 500 Total Average Score: 0.0010000000149011613 Max Score: 0.10000000149011612\n",
      "Episode: 600 Total Average Score: 0.021000000312924386 Max Score: 0.10000000149011612\n",
      "Episode: 700 Total Average Score: 0.03400000050663948 Max Score: 0.10000000149011612\n",
      "Episode: 800 Total Average Score: 0.03500000052154064 Max Score: 0.10000000149011612\n",
      "Episode: 900 Total Average Score: 0.06500000100582838 Max Score: 0.19000000320374966\n",
      "Episode: 1000 Total Average Score: 0.07910000132396817 Max Score: 0.19000000320374966\n",
      "Episode: 1100 Total Average Score: 0.1171000018157065 Max Score: 0.5000000074505806\n",
      "Episode: 1200 Total Average Score: 0.11780000176280737 Max Score: 0.5000000074505806\n",
      " The Environment is solved in 1279 episodes with Average score of 0.5125000076554715\n"
     ]
    }
   ],
   "source": [
    "a_s, a_a_s = maddpg_run()"
   ]
  },
  {
   "cell_type": "code",
   "execution_count": 17,
   "metadata": {},
   "outputs": [
    {
     "data": {
      "image/png": "[encoded data removed]",
      "text/plain": [
       "<matplotlib.figure.Figure at 0x7f541c7a6780>"
      ]
     },
     "metadata": {
      "needs_background": "light"
     },
     "output_type": "display_data"
    }
   ],
   "source": [
    "fig = plt.figure()\n",
    "ax = fig.add_subplot(111)\n",
    "plt.plot(np.arange(1, len(a_s)+1), a_s, label='Scores')\n",
    "plt.plot(np.arange(1, len(a_s)+1), a_a_s, label='Total Average Scores')\n",
    "plt.title(\"Tennis - Multi Agent DDPG\")\n",
    "plt.ylabel('Score')\n",
    "plt.xlabel('Episode #')\n",
    "plt.axhline(y=0.5, color='r', linestyle='--', label='Score = 0.5')\n",
    "plt.legend(loc='best')\n",
    "plt.savefig('Tennis_score.png')\n",
    "plt.show()"
   ]
  },
  {
   "cell_type": "markdown",
   "metadata": {},
   "source": [
    "## I had to go thro lot of iterations to get the score up but suddenly the goal is acheived with a huge jumb. So changing the  function to run full 2500 episodes to check how the training goes till the end\n",
    "## I tried three times the below function but the lab is shutting down as later steps are taking almost an hour for each episode and I have to give up my experiment"
   ]
  },
  {
   "cell_type": "code",
   "execution_count": 18,
   "metadata": {},
   "outputs": [],
   "source": [
    "def maddpg_run_f(n_episodes=2500, print_every=100, num_learn=4, goal = 0.5):\n",
    "    scores_deque = deque(maxlen=print_every)\n",
    "    all_scores = []\n",
    "    all_avg_scores = []\n",
    "    \n",
    "    goal_reached = False\n",
    "    \n",
    "    for i_episode in (range(1, n_episodes+1)):\n",
    "        env_info = env.reset(train_mode=True)[brain_name]\n",
    "        #states = np.reshape(env_info.vector_observations, (1, 48))  # 24 states per agent\n",
    "        \n",
    "        states = env_info.vector_observations\n",
    "        \n",
    "        individual_scores = np.zeros(num_agents)\n",
    "        while True:\n",
    "            \n",
    "            actions = np.random.randn(num_agents, action_size)\n",
    "            \n",
    "            #action_00 = agent_00.act(states)\n",
    "            #action_01 = agent_01.act(states)\n",
    "            \n",
    "            #actions = np.concatenate((action_00, action_01), axis=0).flatten()\n",
    "            \n",
    "            for idx in range(num_agents):\n",
    "                agents[idx].reset()\n",
    "                actions[idx] = agents[idx].act(states[idx])\n",
    "            \n",
    "            env_info = env.step(actions)[brain_name]\n",
    "            \n",
    "            \n",
    "            #next_states =  np.reshape(env_info.vector_observations, (1, 48))  # 24 states per agent\n",
    "            \n",
    "            next_states =  env_info.vector_observations\n",
    "            \n",
    "            rewards = env_info.rewards\n",
    "            \n",
    "            dones = env_info.local_done\n",
    "\n",
    "            for idx in range(num_agents):\n",
    "                agents[idx].step(states, actions, rewards, next_states, dones, i_episode)\n",
    "            \n",
    "            individual_scores += rewards\n",
    "            states = next_states\n",
    "            \n",
    "            if np.any(dones):\n",
    "                break\n",
    "        \n",
    "        ##Manage the agents scores for the episodes till the goal is acheived.\n",
    "        \n",
    "        episode_score = np.max(individual_scores)\n",
    "        all_scores.append(episode_score)\n",
    "        \n",
    "        scores_deque.append(episode_score)\n",
    "        \n",
    "        ## Get the average scrore of the last 100\n",
    "        avg_score = np.mean(scores_deque)\n",
    "        \n",
    "        all_avg_scores.append(avg_score)\n",
    "        \n",
    "        ## Print every 100 episodes score\n",
    "        \n",
    "        if i_episode % print_every == 0:\n",
    "            print(f'Episode: {i_episode} Total Average Score: {avg_score} Max Score: {np.max(all_scores)}' )\n",
    "            \n",
    "        ## Check if avg score reached the goal and break\n",
    "       \n",
    "        if avg_score > goal and goal_reached is False:\n",
    "            print(f' The Environment is solved in {i_episode} episodes with Average score of {avg_score}')\n",
    "            \n",
    "            goal_reached = True\n",
    "            \n",
    "            ## Write the models when it reached the goal\n",
    "            \n",
    "            for idx, agent in enumerate(agents):\n",
    "            \n",
    "                actor_local_name =  'actor_local_agent_' + str(idx) + '.pth'\n",
    "                critic_local_name = 'critic_local_agent_' + str(idx) + '.pth'\n",
    "                torch.save(agent.actor_local.state_dict(), actor_local_name)\n",
    "                torch.save(agent.critic_local.state_dict(), critic_local_name)\n",
    "    ## Write the models when it reached the end\n",
    "    \n",
    "    for idx, agent in enumerate(agents):\n",
    "        actor_local_name =  '2500Epi_actor_local_agent_' + str(idx) + '.pth'\n",
    "        critic_local_name = '2500Epi_critic_local_agent_' + str(idx) + '.pth'\n",
    "        torch.save(agent.actor_local.state_dict(), actor_local_name)\n",
    "        torch.save(agent.critic_local.state_dict(), critic_local_name)    \n",
    "\n",
    "    \n",
    "    return all_scores, all_avg_scores"
   ]
  },
  {
   "cell_type": "code",
   "execution_count": null,
   "metadata": {},
   "outputs": [
    {
     "name": "stdout",
     "output_type": "stream",
     "text": [
      "Episode: 100 Total Average Score: 0.0019000000320374966 Max Score: 0.10000000149011612\n",
      "Episode: 200 Total Average Score: 0.0 Max Score: 0.10000000149011612\n",
      "Episode: 300 Total Average Score: 0.0 Max Score: 0.10000000149011612\n",
      "Episode: 400 Total Average Score: 0.0 Max Score: 0.10000000149011612\n",
      "Episode: 500 Total Average Score: 0.0 Max Score: 0.10000000149011612\n",
      "Episode: 600 Total Average Score: 0.004000000059604645 Max Score: 0.10000000149011612\n",
      "Episode: 700 Total Average Score: 0.00800000011920929 Max Score: 0.10000000149011612\n",
      "Episode: 800 Total Average Score: 0.009000000134110451 Max Score: 0.10000000149011612\n",
      "Episode: 900 Total Average Score: 0.005800000093877315 Max Score: 0.10000000149011612\n",
      "Episode: 1000 Total Average Score: 0.0 Max Score: 0.10000000149011612\n",
      "Episode: 1100 Total Average Score: 0.01160000018775463 Max Score: 0.10000000149011612\n",
      "Episode: 1200 Total Average Score: 0.06340000104159117 Max Score: 0.20000000298023224\n",
      "Episode: 1300 Total Average Score: 0.09980000164359808 Max Score: 1.0000000149011612\n",
      "Episode: 1400 Total Average Score: 0.2501000037975609 Max Score: 2.7000000402331352\n",
      "Episode: 1500 Total Average Score: 0.1830000027269125 Max Score: 2.7000000402331352\n",
      " The Environment is solved in 1578 episodes with Average score of 0.5026000075042247\n",
      "Episode: 1600 Total Average Score: 0.5916000088304281 Max Score: 2.7000000402331352\n",
      "Episode: 1700 Total Average Score: 1.0128000150993466 Max Score: 2.7000000402331352\n",
      "Episode: 1800 Total Average Score: 1.058500015810132 Max Score: 2.7000000402331352\n",
      "Episode: 1900 Total Average Score: 1.2204000182077288 Max Score: 2.7000000402331352\n",
      "Episode: 2000 Total Average Score: 1.2976000193692743 Max Score: 2.7000000402331352\n"
     ]
    }
   ],
   "source": [
    "a_s, a_a_s = maddpg_run_f()"
   ]
  },
  {
   "cell_type": "code",
   "execution_count": null,
   "metadata": {},
   "outputs": [],
   "source": [
    "fig = plt.figure()\n",
    "ax = fig.add_subplot(111)\n",
    "plt.plot(np.arange(1, len(a_s)+1), a_s, label='Scores')\n",
    "plt.plot(np.arange(1, len(a_s)+1), a_a_s, label='Total Average Scores')\n",
    "plt.title(\"Tennis - Multi Agent DDPG (2500 Episodes)\")\n",
    "plt.ylabel('Score')\n",
    "plt.xlabel('Episode #')\n",
    "plt.axhline(y=0.5, color='r', linestyle='--', label='Score = 0.5')\n",
    "plt.legend(loc='best')\n",
    "plt.savefig('Tennis_score_2500Episode.png')\n",
    "plt.show()"
   ]
  },
  {
   "cell_type": "markdown",
   "metadata": {},
   "source": [
    "# Evaluation\n",
    "## Load the trained model and check the results"
   ]
  },
  {
   "cell_type": "code",
   "execution_count": 18,
   "metadata": {},
   "outputs": [],
   "source": [
    "agents[0].actor_local.load_state_dict(torch.load('2500Epi_actor_local_agent_0.pth', map_location='cpu'))\n",
    "agents[1].actor_local.load_state_dict(torch.load('2500Epi_actor_local_agent_1.pth', map_location='cpu'))\n",
    "agents[0].critic_local.load_state_dict(torch.load('2500Epi_critic_local_agent_0.pth', map_location='cpu'))\n",
    "agents[1].critic_local.load_state_dict(torch.load('2500Epi_critic_local_agent_1.pth', map_location='cpu'))\n",
    "\n",
    "for i in range(5):                                         # play game for 5 episodes\n",
    "    env_info = env.reset(train_mode=True)[brain_name]     # reset the environment    \n",
    "    states = env_info.vector_observations                  # get the current state (for each agent)\n",
    "    scores = np.zeros(num_agents)                          # initialize the score (for each agent)\n",
    "    while True:\n",
    "        actions0 = agents[0].act(states, False)     # select action for loaded model for agent0\n",
    "        actions1 = agents[1].act(states, False)     # select action for loaded model for agent1\n",
    "        env_info = env.step(actions0, actions1)[brain_name]           # send all actions to tne environment\n",
    "        next_states = env_info.vector_observations         # get next state (for each agent)\n",
    "        rewards = env_info.rewards                         # get reward (for each agent)\n",
    "        dones = env_info.local_done                        # see if episode finished\n",
    "        scores += env_info.rewards                         # update the score (for each agent)\n",
    "        states = next_states                               # roll over states to next time step\n",
    "        if np.any(dones):                                  # exit loop if episode finished\n",
    "            break\n",
    "    print('Total score (averaged over agents) this episode: {}'.format(np.mean(scores)))\n",
    "\n"
   ]
  },
  {
   "cell_type": "code",
   "execution_count": 20,
   "metadata": {},
   "outputs": [],
   "source": [
    "env.close()"
   ]
  },
  {
   "cell_type": "code",
   "execution_count": null,
   "metadata": {},
   "outputs": [],
   "source": []
  }
 ],
 "metadata": {
  "kernelspec": {
   "display_name": "Python 3",
   "language": "python",
   "name": "python3"
  },
  "language_info": {
   "codemirror_mode": {
    "name": "ipython",
    "version": 3
   },
   "file_extension": ".py",
   "mimetype": "text/x-python",
   "name": "python",
   "nbconvert_exporter": "python",
   "pygments_lexer": "ipython3",
   "version": "3.6.3"
  }
 },
 "nbformat": 4,
 "nbformat_minor": 2
}
